{
 "cells": [
  {
   "cell_type": "code",
   "execution_count": 1,
   "id": "9ecb8407",
   "metadata": {},
   "outputs": [
    {
     "data": {
      "text/plain": "VBox(children=(HTML(value='<center> <img\\nsrc=https://huggingface.co/front/assets/huggingface_logo-noborder.sv…",
      "application/vnd.jupyter.widget-view+json": {
       "version_major": 2,
       "version_minor": 0,
       "model_id": "cdc1dba6f02543c08b19ad5f9febb556"
      }
     },
     "metadata": {},
     "output_type": "display_data"
    }
   ],
   "source": [
    "from huggingface_hub import notebook_login\n",
    "notebook_login()"
   ]
  },
  {
   "cell_type": "code",
   "execution_count": 2,
   "id": "d6a5e72b",
   "metadata": {},
   "outputs": [],
   "source": [
    "import sys\n",
    "sys.path = [\"/home/kailu/single-stable-dreamfusion\"] + sys.path\n",
    "import torch\n",
    "torch.cuda.set_device(7)\n",
    "torch.cuda.empty_cache()"
   ]
  },
  {
   "cell_type": "code",
   "execution_count": 3,
   "id": "52911152",
   "metadata": {},
   "outputs": [],
   "source": [
    "#@markdown ####**Training Settings:**\n",
    "Prompt_text = \"a DSLR photo of a cartoon panda photo\" #@param {type: 'string'}\n",
    "Training_iters = 5000 #@param {type: 'integer'}\n",
    "Learning_rate = 1e-3 #@param {type: 'number'}\n",
    "Training_nerf_resolution = 64  #@param {type: 'integer'}\n",
    "# CUDA_ray = True #@param {type: 'boolean'}\n",
    "# View_dependent_prompt = True #@param {type: 'boolean'}\n",
    "# FP16 = True #@param {type: 'boolean'}\n",
    "Seed = 0 #@param {type: 'integer'}\n",
    "Lambda_entropy = 1e-4 #@param {type: 'number'}\n",
    "Max_steps = 512 #@param {type: 'number'}\n",
    "Checkpoint = 'latest' #@param {type: 'string'}\n",
    "\n",
    "#@markdown ---\n",
    "\n",
    "#@markdown ####**Output Settings:**\n",
    "Workspace = \"trial\" #@param{type: 'string'}\n",
    "# Save_mesh = True #@param {type: 'boolean'}\n",
    "\n",
    "# processings\n",
    "Prompt_text = \"'\" + Prompt_text + \"'\""
   ]
  },
  {
   "cell_type": "code",
   "execution_count": 4,
   "id": "6c05563f",
   "metadata": {},
   "outputs": [
    {
     "name": "stdout",
     "output_type": "stream",
     "text": [
      "/home/kailu/Output\r\n"
     ]
    }
   ],
   "source": [
    "!pwd"
   ]
  },
  {
   "cell_type": "code",
   "execution_count": null,
   "id": "255285eb",
   "metadata": {},
   "outputs": [],
   "source": [
    "%run main.py -O --text {Prompt_text} --workspace {Workspace} --iters {Training_iters} --lr {Learning_rate} --w {Training_nerf_resolution} --h {Training_nerf_resolution} --seed {Seed} --lambda_entropy {Lambda_entropy} --ckpt {Checkpoint} --save_mesh --max_steps {Max_steps}"
   ]
  }
 ],
 "metadata": {
  "kernelspec": {
   "display_name": "Python 3 (ipykernel)",
   "language": "python",
   "name": "python3"
  },
  "language_info": {
   "codemirror_mode": {
    "name": "ipython",
    "version": 3
   },
   "file_extension": ".py",
   "mimetype": "text/x-python",
   "name": "python",
   "nbconvert_exporter": "python",
   "pygments_lexer": "ipython3",
   "version": "3.8.10"
  }
 },
 "nbformat": 4,
 "nbformat_minor": 5
}